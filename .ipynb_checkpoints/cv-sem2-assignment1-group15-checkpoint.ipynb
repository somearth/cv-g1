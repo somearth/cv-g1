{
 "cells": [
  {
   "cell_type": "code",
   "execution_count": 1,
   "id": "5c0eb905",
   "metadata": {},
   "outputs": [],
   "source": [
    "import cv2\n",
    "import numpy as np\n",
    "import os\n",
    "import glob\n",
    "from matplotlib import pyplot as plt\n",
    "\n",
    "def plot_image(orig, edge):\n",
    "    plt.figure(figsize=(10, 5))\n",
    "    plt.subplot(121), plt.imshow(orig, cmap='gray')\n",
    "    plt.title('Original Image'), plt.xticks([]), plt.yticks([])\n",
    "    plt.subplot(122), plt.imshow(edge, cmap='gray')\n",
    "    plt.title('Edge Image'), plt.xticks([]), plt.yticks([])\n",
    "    plt.show()\n",
    "    \n",
    "def preprocess_image(image_path, cp, target_size=(128, 128)):\n",
    "    orig_image = cv2.imread(image_path, cv2.IMREAD_GRAYSCALE)\n",
    "    blurred_image = cv2.GaussianBlur(orig_image, (5, 5), 1.4)\n",
    "    edges = cv2.Canny(blurred_image, cp['threshold1'], cp['threshold2'], apertureSize=cp['apertureSize'])\n",
    "    if edges.shape[:2] != target_size:\n",
    "        edges = cv2.resize(edges, target_size)\n",
    "    #plot_image(orig_image, edges)\n",
    "    \n",
    "    return edges\n",
    "\n",
    "def extract_hog_features(image, hog_descriptor):\n",
    "    return hog_descriptor.compute(image)\n",
    "\n",
    "def load_data(image_paths, hog_descriptor, cp, categories):    \n",
    "    print(\"Started extracting descriptors...\")\n",
    "    hog_descriptors_list = []\n",
    "    labels_list = []\n",
    "    for image_path in image_paths:\n",
    "        # print(f\"Processing: {image_path}\")\n",
    "        category = os.path.basename(os.path.dirname(image_path))\n",
    "        image = preprocess_image(image_path, cp, target_size=hog_descriptor.winSize)\n",
    "        hog_descriptors = extract_hog_features(image, hog_descriptor)\n",
    "        hog_descriptors_list.append(hog_descriptors)\n",
    "        labels = np.zeros(len(categories))\n",
    "        labels[categories.index(category)] = 1\n",
    "        labels_list.append(labels)\n",
    "    X = np.array(hog_descriptors_list, dtype=np.float32)\n",
    "    X = X.reshape(X.shape[0], -1) # Reshape the feature array to (num_samples, num_features)\n",
    "    print(\"Completed extracting descriptors.\")\n",
    "    print(f\"X.shape = {X.shape}\")\n",
    "    return X, labels_list"
   ]
  },
  {
   "cell_type": "code",
   "execution_count": 2,
   "id": "f4f04a2c",
   "metadata": {},
   "outputs": [
    {
     "name": "stdout",
     "output_type": "stream",
     "text": [
      "image files: 5083\n",
      "categories: 50\n",
      "Started extracting descriptors...\n",
      "Completed extracting descriptors.\n",
      "X.shape = (5083, 8100)\n"
     ]
    }
   ],
   "source": [
    "canny_params = [\n",
    "    {'threshold1': 50, 'threshold2': 150, 'apertureSize': 3},\n",
    "    # {'threshold1': 100, 'threshold2': 200, 'apertureSize': 3},\n",
    "    # {'threshold1': 150, 'threshold2': 250, 'apertureSize': 5}\n",
    "]\n",
    "\n",
    "hog_params = [\n",
    "    {'_blockSize':(16, 16), '_blockStride':(8, 8),'_cellSize':(8, 8),'_nbins':9},\n",
    "    # {'_blockSize':(16, 16), '_blockStride':(4, 4),'_cellSize':(4, 4),'_nbins':9},\n",
    "    # {'_blockSize':(16, 16), '_blockStride':(8, 8),'_cellSize':(8, 8),'_nbins':12},\n",
    "    # {'_blockSize':(16, 16), '_blockStride':(4, 4),'_cellSize':(4, 4),'_nbins':12},\n",
    "]\n",
    "\n",
    "image_files = glob.glob(f\"First50/*/*.jpg\")\n",
    "print(f\"image files: {len(image_files)}\")\n",
    "\n",
    "categories = []\n",
    "for image_path in image_files:\n",
    "    category = os.path.basename(os.path.dirname(image_path))\n",
    "    if category not in categories:\n",
    "        categories.append(category)\n",
    "print(f'categories: {len(categories)}')\n",
    "\n",
    "feature_sets = []\n",
    "for cp in canny_params:\n",
    "    for hp in hog_params:\n",
    "        hog_descriptor = cv2.HOGDescriptor(\n",
    "            _winSize=(128, 128),\n",
    "            _blockSize=hp['_blockSize'],\n",
    "            _blockStride=hp['_blockStride'],\n",
    "            _cellSize=hp['_cellSize'],\n",
    "            _nbins=hp['_nbins']\n",
    "        )\n",
    "        \n",
    "        X, labels_list = load_data(image_files, hog_descriptor, cp, categories)\n",
    "        feature_sets.append({\n",
    "                    'canny_params': cp,\n",
    "                    'hog_params': hp,\n",
    "                    'descriptors': X,\n",
    "                    'labels_list': labels_list\n",
    "                })"
   ]
  },
  {
   "cell_type": "code",
   "execution_count": 15,
   "id": "5a1aca10-cab6-4168-bcbd-8c7a3f404353",
   "metadata": {},
   "outputs": [
    {
     "name": "stdout",
     "output_type": "stream",
     "text": [
      "[0.25       0.25       0.23529412 0.23529412 0.25201072 0.23684211\n",
      " 0.25581395 0.24324324 0.26923077 0.25490196 0.25641026 0.26470588\n",
      " 0.25       0.24657534 0.25       0.26470588 0.25510204 0.23684211\n",
      " 0.25531915 0.24       0.24418605 0.23684211 0.25454545 0.25862069\n",
      " 0.25       0.25       0.24390244 0.23913043 0.24074074 0.23809524\n",
      " 0.25       0.25925926 0.25       0.25490196 0.26190476 0.25490196\n",
      " 0.25       0.25       0.25       0.24074074 0.24074074 0.25\n",
      " 0.25925926 0.25925926 0.24390244 0.25316456 0.25       0.23529412\n",
      " 0.25581395 0.25714286]\n"
     ]
    }
   ],
   "source": [
    "#\n",
    "# Proof of train/test stratified sampling over each category\n",
    "#\n",
    "# Train : Test = 80 : 20 ==> Test sample count / Train should be equal to approx 0.25 for each category\n",
    "#\n",
    "print(sum(y_test)/sum(y_train))"
   ]
  },
  {
   "cell_type": "code",
   "execution_count": 17,
   "id": "ffabc5d5",
   "metadata": {},
   "outputs": [
    {
     "ename": "SyntaxError",
     "evalue": "closing parenthesis ']' does not match opening parenthesis '{' on line 13 (3335905911.py, line 16)",
     "output_type": "error",
     "traceback": [
      "\u001b[1;36m  Cell \u001b[1;32mIn[17], line 16\u001b[1;36m\u001b[0m\n\u001b[1;33m    'estimator__gamma': ['scale'] 'auto']\u001b[0m\n\u001b[1;37m                                        ^\u001b[0m\n\u001b[1;31mSyntaxError\u001b[0m\u001b[1;31m:\u001b[0m closing parenthesis ']' does not match opening parenthesis '{' on line 13\n"
     ]
    }
   ],
   "source": [
    "import numpy as np\n",
    "from sklearn.model_selection import train_test_split, GridSearchCV, KFold\n",
    "from sklearn.svm import SVC\n",
    "from sklearn.multioutput import MultiOutputClassifier\n",
    "from sklearn.metrics import accuracy_score, classification_report\n",
    "\n",
    "stratify_labels = np.argmax(feature_sets[0]['labels_list'], axis=1)\n",
    "\n",
    "X_train, X_test, y_train, y_test = train_test_split(feature_sets[0]['descriptors'], feature_sets[0]['labels_list'], \n",
    "                                                    test_size=0.2, random_state=42, stratify=stratify_labels)\n",
    "\n",
    "# Define parameter grid for Grid Search\n",
    "param_grid = {\n",
    "    'estimator__C': [0.1, 1, 10],\n",
    "    'estimator__kernel': ['linear', 'rbf'],\n",
    "    'estimator__gamma': ['scale', 'auto']\n",
    "}\n",
    "\n",
    "svm = SVC()\n",
    "multi_target_svm = MultiOutputClassifier(svm, n_jobs=-1)\n",
    "kf = KFold(n_splits=3, shuffle=True, random_state=42)\n",
    "\n",
    "grid_search = GridSearchCV(multi_target_svm, param_grid, cv=kf, scoring='accuracy', n_jobs=-1, verbose=3)\n",
    "grid_search.fit(X_train, y_train)\n",
    "best_model = grid_search.best_estimator_\n",
    "\n",
    "# Evaluate on the test set\n",
    "y_test_pred = best_model.predict(X_test)\n",
    "test_accuracy = accuracy_score(y_test, y_test_pred)\n",
    "print(f'Test Accuracy: {test_accuracy:.2f}')\n",
    "print('Test Classification Report:')\n",
    "print(classification_report(y_test, y_test_pred))"
   ]
  },
  {
   "cell_type": "code",
   "execution_count": null,
   "id": "aeaf43c8-2aa5-430e-ae39-b51c90337598",
   "metadata": {},
   "outputs": [],
   "source": []
  }
 ],
 "metadata": {
  "kernelspec": {
   "display_name": "Python 3 (ipykernel)",
   "language": "python",
   "name": "python3"
  },
  "language_info": {
   "codemirror_mode": {
    "name": "ipython",
    "version": 3
   },
   "file_extension": ".py",
   "mimetype": "text/x-python",
   "name": "python",
   "nbconvert_exporter": "python",
   "pygments_lexer": "ipython3",
   "version": "3.11.9"
  }
 },
 "nbformat": 4,
 "nbformat_minor": 5
}
